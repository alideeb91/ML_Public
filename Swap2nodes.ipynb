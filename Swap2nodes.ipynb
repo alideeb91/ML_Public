{
  "nbformat": 4,
  "nbformat_minor": 0,
  "metadata": {
    "colab": {
      "provenance": [],
      "authorship_tag": "ABX9TyN7C1pnfrMb0+bJB5kwWwAx",
      "include_colab_link": true
    },
    "kernelspec": {
      "name": "python3",
      "display_name": "Python 3"
    },
    "language_info": {
      "name": "python"
    }
  },
  "cells": [
    {
      "cell_type": "markdown",
      "metadata": {
        "id": "view-in-github",
        "colab_type": "text"
      },
      "source": [
        "<a href=\"https://colab.research.google.com/github/alideeb91/ML_Public/blob/main/Swap2nodes.ipynb\" target=\"_parent\"><img src=\"https://colab.research.google.com/assets/colab-badge.svg\" alt=\"Open In Colab\"/></a>"
      ]
    },
    {
      "cell_type": "code",
      "execution_count": null,
      "metadata": {
        "colab": {
          "base_uri": "https://localhost:8080/"
        },
        "id": "lh_o-hfT9cxd",
        "outputId": "89867422-ca6d-4eaf-e8d9-efb05c1554f7"
      },
      "outputs": [
        {
          "output_type": "stream",
          "name": "stdout",
          "text": [
            "[[0. 0. 1. 0. 1. 1. 1. 1. 0. 0.]\n",
            " [0. 0. 0. 0. 1. 1. 0. 0. 1. 0.]\n",
            " [1. 0. 0. 0. 1. 0. 0. 0. 1. 1.]\n",
            " [0. 0. 0. 0. 0. 0. 1. 1. 0. 1.]\n",
            " [1. 1. 1. 0. 0. 1. 1. 0. 1. 1.]\n",
            " [1. 1. 0. 0. 1. 0. 0. 1. 1. 0.]\n",
            " [1. 0. 0. 1. 1. 0. 0. 0. 1. 1.]\n",
            " [1. 0. 0. 1. 0. 1. 0. 0. 1. 1.]\n",
            " [0. 1. 1. 0. 1. 1. 1. 1. 0. 1.]\n",
            " [0. 0. 1. 1. 1. 0. 1. 1. 1. 0.]]\n",
            "[[0. 0. 5. 0. 3. 1. 8. 9. 0. 0.]\n",
            " [0. 0. 0. 0. 3. 2. 0. 0. 1. 0.]\n",
            " [5. 0. 0. 0. 0. 0. 0. 0. 5. 5.]\n",
            " [0. 0. 0. 0. 0. 0. 5. 7. 0. 7.]\n",
            " [3. 3. 0. 0. 0. 1. 1. 0. 7. 8.]\n",
            " [1. 2. 0. 0. 1. 0. 0. 2. 4. 0.]\n",
            " [8. 0. 0. 5. 1. 0. 0. 0. 9. 9.]\n",
            " [9. 0. 0. 7. 0. 2. 0. 0. 4. 8.]\n",
            " [0. 1. 5. 0. 7. 4. 9. 4. 0. 6.]\n",
            " [0. 0. 5. 7. 8. 0. 9. 8. 6. 0.]]\n"
          ]
        }
      ],
      "source": [
        "import networkx as nx\n",
        "import matplotlib.pyplot as plt\n",
        "import numpy as np\n",
        "from sklearn.utils import shuffle\n",
        "from tqdm import tqdm\n",
        "from sklearn.metrics import classification_report, confusion_matrix,accuracy_score\n",
        "\n",
        "GraphNodeCount = 10\n",
        "G =nx.dense_gnm_random_graph(GraphNodeCount, int(GraphNodeCount * 2.5), seed= 6)\n",
        "# Add 'cost' attributes to the edges\n",
        "Adj = np.array(nx.to_numpy_matrix(G))\n",
        "X = Adj.copy()\n",
        "for (start, end) in G.edges:\n",
        "    X[start,end] = X[end, start] = np.random.randint(0,10)\n",
        "    G.edges[start, end]['cost'] = X[start,end]\n",
        "print(Adj)\n",
        "print(X)\n",
        "\n"
      ]
    },
    {
      "cell_type": "code",
      "source": [
        "#Swap nodes 2 and 3\n",
        "Adj2 = Adj.copy()\n",
        "X2 = X.copy()\n",
        "print(Adj2)\n",
        "print(X2)\n",
        "\n",
        "#Adjacency matrix\n",
        "\n",
        "#  Swap rows\n",
        "\n",
        "Adj2[ 2 ,  :] = Adj[ 1 ,  :] \n",
        "Adj2[ 1 ,  :] = Adj[ 2 ,  :] \n",
        "\n",
        "#  Swap columns\n",
        "Adj2[ : , 2] = Adj[ : , 1] \n",
        "Adj2[ : , 1] = Adj[ : ,  2] \n",
        "\n",
        "#Feature matrix\n",
        "#  Swap rows only\n",
        "X2[ 2 ,  :] = X[ 1 ,  :] \n",
        "X2[ 1 ,  :] = X[ 2 ,  :] \n",
        "\n",
        "print(Adj2)\n",
        "print(X2)"
      ],
      "metadata": {
        "colab": {
          "base_uri": "https://localhost:8080/"
        },
        "id": "rxHLa-dX9x56",
        "outputId": "035c60a8-f769-41e1-ec2d-1921c9f4cee1"
      },
      "execution_count": null,
      "outputs": [
        {
          "output_type": "stream",
          "name": "stdout",
          "text": [
            "[[0. 0. 1. 0. 1. 1. 1. 1. 0. 0.]\n",
            " [0. 0. 0. 0. 1. 1. 0. 0. 1. 0.]\n",
            " [1. 0. 0. 0. 1. 0. 0. 0. 1. 1.]\n",
            " [0. 0. 0. 0. 0. 0. 1. 1. 0. 1.]\n",
            " [1. 1. 1. 0. 0. 1. 1. 0. 1. 1.]\n",
            " [1. 1. 0. 0. 1. 0. 0. 1. 1. 0.]\n",
            " [1. 0. 0. 1. 1. 0. 0. 0. 1. 1.]\n",
            " [1. 0. 0. 1. 0. 1. 0. 0. 1. 1.]\n",
            " [0. 1. 1. 0. 1. 1. 1. 1. 0. 1.]\n",
            " [0. 0. 1. 1. 1. 0. 1. 1. 1. 0.]]\n",
            "[[0. 0. 5. 0. 3. 1. 8. 9. 0. 0.]\n",
            " [0. 0. 0. 0. 3. 2. 0. 0. 1. 0.]\n",
            " [5. 0. 0. 0. 0. 0. 0. 0. 5. 5.]\n",
            " [0. 0. 0. 0. 0. 0. 5. 7. 0. 7.]\n",
            " [3. 3. 0. 0. 0. 1. 1. 0. 7. 8.]\n",
            " [1. 2. 0. 0. 1. 0. 0. 2. 4. 0.]\n",
            " [8. 0. 0. 5. 1. 0. 0. 0. 9. 9.]\n",
            " [9. 0. 0. 7. 0. 2. 0. 0. 4. 8.]\n",
            " [0. 1. 5. 0. 7. 4. 9. 4. 0. 6.]\n",
            " [0. 0. 5. 7. 8. 0. 9. 8. 6. 0.]]\n",
            "[[0. 1. 0. 0. 1. 1. 1. 1. 0. 0.]\n",
            " [1. 0. 0. 0. 1. 0. 0. 0. 1. 1.]\n",
            " [0. 0. 0. 0. 1. 1. 0. 0. 1. 0.]\n",
            " [0. 0. 0. 0. 0. 0. 1. 1. 0. 1.]\n",
            " [1. 1. 1. 0. 0. 1. 1. 0. 1. 1.]\n",
            " [1. 0. 1. 0. 1. 0. 0. 1. 1. 0.]\n",
            " [1. 0. 0. 1. 1. 0. 0. 0. 1. 1.]\n",
            " [1. 0. 0. 1. 0. 1. 0. 0. 1. 1.]\n",
            " [0. 1. 1. 0. 1. 1. 1. 1. 0. 1.]\n",
            " [0. 1. 0. 1. 1. 0. 1. 1. 1. 0.]]\n",
            "[[0. 0. 5. 0. 3. 1. 8. 9. 0. 0.]\n",
            " [5. 0. 0. 0. 0. 0. 0. 0. 5. 5.]\n",
            " [0. 0. 0. 0. 3. 2. 0. 0. 1. 0.]\n",
            " [0. 0. 0. 0. 0. 0. 5. 7. 0. 7.]\n",
            " [3. 3. 0. 0. 0. 1. 1. 0. 7. 8.]\n",
            " [1. 2. 0. 0. 1. 0. 0. 2. 4. 0.]\n",
            " [8. 0. 0. 5. 1. 0. 0. 0. 9. 9.]\n",
            " [9. 0. 0. 7. 0. 2. 0. 0. 4. 8.]\n",
            " [0. 1. 5. 0. 7. 4. 9. 4. 0. 6.]\n",
            " [0. 0. 5. 7. 8. 0. 9. 8. 6. 0.]]\n"
          ]
        }
      ]
    }
  ]
}